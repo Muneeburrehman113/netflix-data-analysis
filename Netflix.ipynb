{
 "cells": [
  {
   "cell_type": "markdown",
   "id": "3fe80f5c-cb51-4899-9c19-a153d6ef3a54",
   "metadata": {},
   "source": [
    "### Data understanding"
   ]
  },
  {
   "cell_type": "code",
   "execution_count": 45,
   "id": "0847efd8-2a93-4180-a5cc-e960263cbd78",
   "metadata": {},
   "outputs": [
    {
     "data": {
      "text/html": [
       "<div>\n",
       "<style scoped>\n",
       "    .dataframe tbody tr th:only-of-type {\n",
       "        vertical-align: middle;\n",
       "    }\n",
       "\n",
       "    .dataframe tbody tr th {\n",
       "        vertical-align: top;\n",
       "    }\n",
       "\n",
       "    .dataframe thead th {\n",
       "        text-align: right;\n",
       "    }\n",
       "</style>\n",
       "<table border=\"1\" class=\"dataframe\">\n",
       "  <thead>\n",
       "    <tr style=\"text-align: right;\">\n",
       "      <th></th>\n",
       "      <th>show_id</th>\n",
       "      <th>type</th>\n",
       "      <th>title</th>\n",
       "      <th>director</th>\n",
       "      <th>cast</th>\n",
       "      <th>country</th>\n",
       "      <th>date_added</th>\n",
       "      <th>release_year</th>\n",
       "      <th>rating</th>\n",
       "      <th>duration</th>\n",
       "      <th>listed_in</th>\n",
       "      <th>description</th>\n",
       "    </tr>\n",
       "  </thead>\n",
       "  <tbody>\n",
       "    <tr>\n",
       "      <th>0</th>\n",
       "      <td>s1</td>\n",
       "      <td>Movie</td>\n",
       "      <td>Dick Johnson Is Dead</td>\n",
       "      <td>Kirsten Johnson</td>\n",
       "      <td>NaN</td>\n",
       "      <td>United States</td>\n",
       "      <td>25-Sep-21</td>\n",
       "      <td>2020</td>\n",
       "      <td>PG-13</td>\n",
       "      <td>90 min</td>\n",
       "      <td>Documentaries</td>\n",
       "      <td>As her father nears the end of his life, filmm...</td>\n",
       "    </tr>\n",
       "    <tr>\n",
       "      <th>1</th>\n",
       "      <td>s2</td>\n",
       "      <td>TV Show</td>\n",
       "      <td>Blood &amp; Water</td>\n",
       "      <td>NaN</td>\n",
       "      <td>Ama Qamata, Khosi Ngema, Gail Mabalane, Thaban...</td>\n",
       "      <td>South Africa</td>\n",
       "      <td>24-Sep-21</td>\n",
       "      <td>2021</td>\n",
       "      <td>TV-MA</td>\n",
       "      <td>2 Seasons</td>\n",
       "      <td>International TV Shows, TV Dramas, TV Mysteries</td>\n",
       "      <td>After crossing paths at a party, a Cape Town t...</td>\n",
       "    </tr>\n",
       "    <tr>\n",
       "      <th>2</th>\n",
       "      <td>s3</td>\n",
       "      <td>TV Show</td>\n",
       "      <td>Ganglands</td>\n",
       "      <td>Julien Leclercq</td>\n",
       "      <td>Sami Bouajila, Tracy Gotoas, Samuel Jouy, Nabi...</td>\n",
       "      <td>NaN</td>\n",
       "      <td>24-Sep-21</td>\n",
       "      <td>2021</td>\n",
       "      <td>TV-MA</td>\n",
       "      <td>1 Season</td>\n",
       "      <td>Crime TV Shows, International TV Shows, TV Act...</td>\n",
       "      <td>To protect his family from a powerful drug lor...</td>\n",
       "    </tr>\n",
       "    <tr>\n",
       "      <th>3</th>\n",
       "      <td>s4</td>\n",
       "      <td>TV Show</td>\n",
       "      <td>Jailbirds New Orleans</td>\n",
       "      <td>NaN</td>\n",
       "      <td>NaN</td>\n",
       "      <td>NaN</td>\n",
       "      <td>24-Sep-21</td>\n",
       "      <td>2021</td>\n",
       "      <td>TV-MA</td>\n",
       "      <td>1 Season</td>\n",
       "      <td>Docuseries, Reality TV</td>\n",
       "      <td>Feuds, flirtations and toilet talk go down amo...</td>\n",
       "    </tr>\n",
       "    <tr>\n",
       "      <th>4</th>\n",
       "      <td>s5</td>\n",
       "      <td>TV Show</td>\n",
       "      <td>Kota Factory</td>\n",
       "      <td>NaN</td>\n",
       "      <td>Mayur More, Jitendra Kumar, Ranjan Raj, Alam K...</td>\n",
       "      <td>India</td>\n",
       "      <td>24-Sep-21</td>\n",
       "      <td>2021</td>\n",
       "      <td>TV-MA</td>\n",
       "      <td>2 Seasons</td>\n",
       "      <td>International TV Shows, Romantic TV Shows, TV ...</td>\n",
       "      <td>In a city of coaching centers known to train I...</td>\n",
       "    </tr>\n",
       "  </tbody>\n",
       "</table>\n",
       "</div>"
      ],
      "text/plain": [
       "  show_id     type                  title         director  \\\n",
       "0      s1    Movie   Dick Johnson Is Dead  Kirsten Johnson   \n",
       "1      s2  TV Show          Blood & Water              NaN   \n",
       "2      s3  TV Show              Ganglands  Julien Leclercq   \n",
       "3      s4  TV Show  Jailbirds New Orleans              NaN   \n",
       "4      s5  TV Show           Kota Factory              NaN   \n",
       "\n",
       "                                                cast        country  \\\n",
       "0                                                NaN  United States   \n",
       "1  Ama Qamata, Khosi Ngema, Gail Mabalane, Thaban...   South Africa   \n",
       "2  Sami Bouajila, Tracy Gotoas, Samuel Jouy, Nabi...            NaN   \n",
       "3                                                NaN            NaN   \n",
       "4  Mayur More, Jitendra Kumar, Ranjan Raj, Alam K...          India   \n",
       "\n",
       "  date_added  release_year rating   duration  \\\n",
       "0  25-Sep-21          2020  PG-13     90 min   \n",
       "1  24-Sep-21          2021  TV-MA  2 Seasons   \n",
       "2  24-Sep-21          2021  TV-MA   1 Season   \n",
       "3  24-Sep-21          2021  TV-MA   1 Season   \n",
       "4  24-Sep-21          2021  TV-MA  2 Seasons   \n",
       "\n",
       "                                           listed_in  \\\n",
       "0                                      Documentaries   \n",
       "1    International TV Shows, TV Dramas, TV Mysteries   \n",
       "2  Crime TV Shows, International TV Shows, TV Act...   \n",
       "3                             Docuseries, Reality TV   \n",
       "4  International TV Shows, Romantic TV Shows, TV ...   \n",
       "\n",
       "                                         description  \n",
       "0  As her father nears the end of his life, filmm...  \n",
       "1  After crossing paths at a party, a Cape Town t...  \n",
       "2  To protect his family from a powerful drug lor...  \n",
       "3  Feuds, flirtations and toilet talk go down amo...  \n",
       "4  In a city of coaching centers known to train I...  "
      ]
     },
     "execution_count": 45,
     "metadata": {},
     "output_type": "execute_result"
    }
   ],
   "source": [
    "import pandas as pd\n",
    "df = pd.read_csv(\"Netflix.csv\")\n",
    "\n",
    "df.head(5)"
   ]
  },
  {
   "cell_type": "code",
   "execution_count": 4,
   "id": "88f20804-ad43-487d-a43f-4546577e6391",
   "metadata": {},
   "outputs": [
    {
     "data": {
      "text/plain": [
       "(200, 12)"
      ]
     },
     "execution_count": 4,
     "metadata": {},
     "output_type": "execute_result"
    }
   ],
   "source": [
    "df.shape"
   ]
  },
  {
   "cell_type": "code",
   "execution_count": 6,
   "id": "56914c88-3938-495f-8f87-2e866931ea27",
   "metadata": {},
   "outputs": [
    {
     "name": "stdout",
     "output_type": "stream",
     "text": [
      "<class 'pandas.core.frame.DataFrame'>\n",
      "RangeIndex: 200 entries, 0 to 199\n",
      "Data columns (total 12 columns):\n",
      " #   Column        Non-Null Count  Dtype \n",
      "---  ------        --------------  ----- \n",
      " 0   show_id       200 non-null    object\n",
      " 1   type          200 non-null    object\n",
      " 2   title         200 non-null    object\n",
      " 3   director      137 non-null    object\n",
      " 4   cast          180 non-null    object\n",
      " 5   country       136 non-null    object\n",
      " 6   date_added    200 non-null    object\n",
      " 7   release_year  200 non-null    int64 \n",
      " 8   rating        200 non-null    object\n",
      " 9   duration      200 non-null    object\n",
      " 10  listed_in     200 non-null    object\n",
      " 11  description   200 non-null    object\n",
      "dtypes: int64(1), object(11)\n",
      "memory usage: 18.9+ KB\n"
     ]
    }
   ],
   "source": [
    "df.info()"
   ]
  },
  {
   "cell_type": "code",
   "execution_count": 7,
   "id": "c25c9fb6-00dd-4ba9-9a40-ef3ff302811a",
   "metadata": {},
   "outputs": [
    {
     "data": {
      "text/plain": [
       "['show_id',\n",
       " 'type',\n",
       " 'title',\n",
       " 'director',\n",
       " 'cast',\n",
       " 'country',\n",
       " 'date_added',\n",
       " 'release_year',\n",
       " 'rating',\n",
       " 'duration',\n",
       " 'listed_in',\n",
       " 'description']"
      ]
     },
     "execution_count": 7,
     "metadata": {},
     "output_type": "execute_result"
    }
   ],
   "source": [
    "df.columns.tolist()"
   ]
  },
  {
   "cell_type": "code",
   "execution_count": 9,
   "id": "4b241cb9-1044-4115-8452-b56cdd54bf5e",
   "metadata": {},
   "outputs": [
    {
     "data": {
      "text/html": [
       "<div>\n",
       "<style scoped>\n",
       "    .dataframe tbody tr th:only-of-type {\n",
       "        vertical-align: middle;\n",
       "    }\n",
       "\n",
       "    .dataframe tbody tr th {\n",
       "        vertical-align: top;\n",
       "    }\n",
       "\n",
       "    .dataframe thead th {\n",
       "        text-align: right;\n",
       "    }\n",
       "</style>\n",
       "<table border=\"1\" class=\"dataframe\">\n",
       "  <thead>\n",
       "    <tr style=\"text-align: right;\">\n",
       "      <th></th>\n",
       "      <th>show_id</th>\n",
       "      <th>type</th>\n",
       "      <th>title</th>\n",
       "      <th>director</th>\n",
       "      <th>cast</th>\n",
       "      <th>country</th>\n",
       "      <th>date_added</th>\n",
       "      <th>release_year</th>\n",
       "      <th>rating</th>\n",
       "      <th>duration</th>\n",
       "      <th>listed_in</th>\n",
       "      <th>description</th>\n",
       "    </tr>\n",
       "  </thead>\n",
       "  <tbody>\n",
       "    <tr>\n",
       "      <th>90</th>\n",
       "      <td>s91</td>\n",
       "      <td>Movie</td>\n",
       "      <td>Paradise Hills</td>\n",
       "      <td>Alice Waddington</td>\n",
       "      <td>Emma Roberts, Danielle Macdonald, Awkwafina, E...</td>\n",
       "      <td>Spain, United States</td>\n",
       "      <td>9-Sep-21</td>\n",
       "      <td>2019</td>\n",
       "      <td>TV-MA</td>\n",
       "      <td>95 min</td>\n",
       "      <td>Sci-Fi &amp; Fantasy, Thrillers</td>\n",
       "      <td>Uma wakes up in a lush tropical facility desig...</td>\n",
       "    </tr>\n",
       "    <tr>\n",
       "      <th>189</th>\n",
       "      <td>s190</td>\n",
       "      <td>TV Show</td>\n",
       "      <td>Bread Barbershop</td>\n",
       "      <td>NaN</td>\n",
       "      <td>Um Sang-hyun, Park Yoon-hee, Kang Shi-hyun, Ho...</td>\n",
       "      <td>NaN</td>\n",
       "      <td>28-Aug-21</td>\n",
       "      <td>2020</td>\n",
       "      <td>TV-Y</td>\n",
       "      <td>2 Seasons</td>\n",
       "      <td>Kids' TV, TV Comedies</td>\n",
       "      <td>In a town filled with food, Bread is a master ...</td>\n",
       "    </tr>\n",
       "    <tr>\n",
       "      <th>155</th>\n",
       "      <td>s156</td>\n",
       "      <td>Movie</td>\n",
       "      <td>Labyrinth</td>\n",
       "      <td>Jim Henson</td>\n",
       "      <td>David Bowie, Jennifer Connelly, Frank Oz, Kevi...</td>\n",
       "      <td>United Kingdom, United States</td>\n",
       "      <td>1-Sep-21</td>\n",
       "      <td>1986</td>\n",
       "      <td>PG</td>\n",
       "      <td>101 min</td>\n",
       "      <td>Action &amp; Adventure, Children &amp; Family Movies, ...</td>\n",
       "      <td>In Jim Henson's fantasy, teen Sarah embarks on...</td>\n",
       "    </tr>\n",
       "    <tr>\n",
       "      <th>66</th>\n",
       "      <td>s67</td>\n",
       "      <td>TV Show</td>\n",
       "      <td>Raja Rasoi Aur Anya Kahaniyan</td>\n",
       "      <td>NaN</td>\n",
       "      <td>NaN</td>\n",
       "      <td>India</td>\n",
       "      <td>15-Sep-21</td>\n",
       "      <td>2014</td>\n",
       "      <td>TV-G</td>\n",
       "      <td>1 Season</td>\n",
       "      <td>Docuseries, International TV Shows</td>\n",
       "      <td>Explore the history and flavors of regional In...</td>\n",
       "    </tr>\n",
       "    <tr>\n",
       "      <th>78</th>\n",
       "      <td>s79</td>\n",
       "      <td>Movie</td>\n",
       "      <td>Tughlaq Durbar</td>\n",
       "      <td>Delhiprasad Deenadayalan</td>\n",
       "      <td>Vijay Sethupathi, Parthiban, Raashi Khanna</td>\n",
       "      <td>NaN</td>\n",
       "      <td>11-Sep-21</td>\n",
       "      <td>2020</td>\n",
       "      <td>TV-14</td>\n",
       "      <td>145 min</td>\n",
       "      <td>Comedies, Dramas, International Movies</td>\n",
       "      <td>A budding politician has devious plans to rise...</td>\n",
       "    </tr>\n",
       "  </tbody>\n",
       "</table>\n",
       "</div>"
      ],
      "text/plain": [
       "    show_id     type                          title                  director  \\\n",
       "90      s91    Movie                 Paradise Hills          Alice Waddington   \n",
       "189    s190  TV Show               Bread Barbershop                       NaN   \n",
       "155    s156    Movie                      Labyrinth                Jim Henson   \n",
       "66      s67  TV Show  Raja Rasoi Aur Anya Kahaniyan                       NaN   \n",
       "78      s79    Movie                 Tughlaq Durbar  Delhiprasad Deenadayalan   \n",
       "\n",
       "                                                  cast  \\\n",
       "90   Emma Roberts, Danielle Macdonald, Awkwafina, E...   \n",
       "189  Um Sang-hyun, Park Yoon-hee, Kang Shi-hyun, Ho...   \n",
       "155  David Bowie, Jennifer Connelly, Frank Oz, Kevi...   \n",
       "66                                                 NaN   \n",
       "78          Vijay Sethupathi, Parthiban, Raashi Khanna   \n",
       "\n",
       "                           country date_added  release_year rating   duration  \\\n",
       "90            Spain, United States   9-Sep-21          2019  TV-MA     95 min   \n",
       "189                            NaN  28-Aug-21          2020   TV-Y  2 Seasons   \n",
       "155  United Kingdom, United States   1-Sep-21          1986     PG    101 min   \n",
       "66                           India  15-Sep-21          2014   TV-G   1 Season   \n",
       "78                             NaN  11-Sep-21          2020  TV-14    145 min   \n",
       "\n",
       "                                             listed_in  \\\n",
       "90                         Sci-Fi & Fantasy, Thrillers   \n",
       "189                              Kids' TV, TV Comedies   \n",
       "155  Action & Adventure, Children & Family Movies, ...   \n",
       "66                  Docuseries, International TV Shows   \n",
       "78              Comedies, Dramas, International Movies   \n",
       "\n",
       "                                           description  \n",
       "90   Uma wakes up in a lush tropical facility desig...  \n",
       "189  In a town filled with food, Bread is a master ...  \n",
       "155  In Jim Henson's fantasy, teen Sarah embarks on...  \n",
       "66   Explore the history and flavors of regional In...  \n",
       "78   A budding politician has devious plans to rise...  "
      ]
     },
     "execution_count": 9,
     "metadata": {},
     "output_type": "execute_result"
    }
   ],
   "source": [
    "df.sample(5)"
   ]
  },
  {
   "cell_type": "code",
   "execution_count": 12,
   "id": "ba97645d-484d-4959-90bd-94507a88fcfc",
   "metadata": {},
   "outputs": [
    {
     "data": {
      "text/plain": [
       "show_id          0\n",
       "type             0\n",
       "title            0\n",
       "director        63\n",
       "cast            20\n",
       "country         64\n",
       "date_added       0\n",
       "release_year     0\n",
       "rating           0\n",
       "duration         0\n",
       "listed_in        0\n",
       "description      0\n",
       "dtype: int64"
      ]
     },
     "execution_count": 12,
     "metadata": {},
     "output_type": "execute_result"
    }
   ],
   "source": [
    "df.isnull().sum()"
   ]
  },
  {
   "cell_type": "code",
   "execution_count": 13,
   "id": "da4e2355-d178-44b0-aa1d-7065855a8c2b",
   "metadata": {},
   "outputs": [
    {
     "data": {
      "text/html": [
       "<div>\n",
       "<style scoped>\n",
       "    .dataframe tbody tr th:only-of-type {\n",
       "        vertical-align: middle;\n",
       "    }\n",
       "\n",
       "    .dataframe tbody tr th {\n",
       "        vertical-align: top;\n",
       "    }\n",
       "\n",
       "    .dataframe thead th {\n",
       "        text-align: right;\n",
       "    }\n",
       "</style>\n",
       "<table border=\"1\" class=\"dataframe\">\n",
       "  <thead>\n",
       "    <tr style=\"text-align: right;\">\n",
       "      <th></th>\n",
       "      <th>show_id</th>\n",
       "      <th>type</th>\n",
       "      <th>title</th>\n",
       "      <th>director</th>\n",
       "      <th>cast</th>\n",
       "      <th>country</th>\n",
       "      <th>date_added</th>\n",
       "      <th>release_year</th>\n",
       "      <th>rating</th>\n",
       "      <th>duration</th>\n",
       "      <th>listed_in</th>\n",
       "      <th>description</th>\n",
       "    </tr>\n",
       "  </thead>\n",
       "  <tbody>\n",
       "    <tr>\n",
       "      <th>count</th>\n",
       "      <td>200</td>\n",
       "      <td>200</td>\n",
       "      <td>200</td>\n",
       "      <td>137</td>\n",
       "      <td>180</td>\n",
       "      <td>136</td>\n",
       "      <td>200</td>\n",
       "      <td>200.000000</td>\n",
       "      <td>200</td>\n",
       "      <td>200</td>\n",
       "      <td>200</td>\n",
       "      <td>200</td>\n",
       "    </tr>\n",
       "    <tr>\n",
       "      <th>unique</th>\n",
       "      <td>200</td>\n",
       "      <td>2</td>\n",
       "      <td>200</td>\n",
       "      <td>123</td>\n",
       "      <td>179</td>\n",
       "      <td>44</td>\n",
       "      <td>26</td>\n",
       "      <td>NaN</td>\n",
       "      <td>10</td>\n",
       "      <td>71</td>\n",
       "      <td>97</td>\n",
       "      <td>199</td>\n",
       "    </tr>\n",
       "    <tr>\n",
       "      <th>top</th>\n",
       "      <td>s1</td>\n",
       "      <td>Movie</td>\n",
       "      <td>Dick Johnson Is Dead</td>\n",
       "      <td>Toshiya Shinohara</td>\n",
       "      <td>Vijay Sethupathi, Parthiban, Raashi Khanna</td>\n",
       "      <td>United States</td>\n",
       "      <td>1-Sep-21</td>\n",
       "      <td>NaN</td>\n",
       "      <td>TV-MA</td>\n",
       "      <td>1 Season</td>\n",
       "      <td>Action &amp; Adventure, Anime Features, Internatio...</td>\n",
       "      <td>A budding politician has devious plans to rise...</td>\n",
       "    </tr>\n",
       "    <tr>\n",
       "      <th>freq</th>\n",
       "      <td>1</td>\n",
       "      <td>127</td>\n",
       "      <td>1</td>\n",
       "      <td>4</td>\n",
       "      <td>2</td>\n",
       "      <td>50</td>\n",
       "      <td>56</td>\n",
       "      <td>NaN</td>\n",
       "      <td>50</td>\n",
       "      <td>43</td>\n",
       "      <td>12</td>\n",
       "      <td>2</td>\n",
       "    </tr>\n",
       "    <tr>\n",
       "      <th>mean</th>\n",
       "      <td>NaN</td>\n",
       "      <td>NaN</td>\n",
       "      <td>NaN</td>\n",
       "      <td>NaN</td>\n",
       "      <td>NaN</td>\n",
       "      <td>NaN</td>\n",
       "      <td>NaN</td>\n",
       "      <td>2012.230000</td>\n",
       "      <td>NaN</td>\n",
       "      <td>NaN</td>\n",
       "      <td>NaN</td>\n",
       "      <td>NaN</td>\n",
       "    </tr>\n",
       "    <tr>\n",
       "      <th>std</th>\n",
       "      <td>NaN</td>\n",
       "      <td>NaN</td>\n",
       "      <td>NaN</td>\n",
       "      <td>NaN</td>\n",
       "      <td>NaN</td>\n",
       "      <td>NaN</td>\n",
       "      <td>NaN</td>\n",
       "      <td>11.609089</td>\n",
       "      <td>NaN</td>\n",
       "      <td>NaN</td>\n",
       "      <td>NaN</td>\n",
       "      <td>NaN</td>\n",
       "    </tr>\n",
       "    <tr>\n",
       "      <th>min</th>\n",
       "      <td>NaN</td>\n",
       "      <td>NaN</td>\n",
       "      <td>NaN</td>\n",
       "      <td>NaN</td>\n",
       "      <td>NaN</td>\n",
       "      <td>NaN</td>\n",
       "      <td>NaN</td>\n",
       "      <td>1961.000000</td>\n",
       "      <td>NaN</td>\n",
       "      <td>NaN</td>\n",
       "      <td>NaN</td>\n",
       "      <td>NaN</td>\n",
       "    </tr>\n",
       "    <tr>\n",
       "      <th>25%</th>\n",
       "      <td>NaN</td>\n",
       "      <td>NaN</td>\n",
       "      <td>NaN</td>\n",
       "      <td>NaN</td>\n",
       "      <td>NaN</td>\n",
       "      <td>NaN</td>\n",
       "      <td>NaN</td>\n",
       "      <td>2005.750000</td>\n",
       "      <td>NaN</td>\n",
       "      <td>NaN</td>\n",
       "      <td>NaN</td>\n",
       "      <td>NaN</td>\n",
       "    </tr>\n",
       "    <tr>\n",
       "      <th>50%</th>\n",
       "      <td>NaN</td>\n",
       "      <td>NaN</td>\n",
       "      <td>NaN</td>\n",
       "      <td>NaN</td>\n",
       "      <td>NaN</td>\n",
       "      <td>NaN</td>\n",
       "      <td>NaN</td>\n",
       "      <td>2018.000000</td>\n",
       "      <td>NaN</td>\n",
       "      <td>NaN</td>\n",
       "      <td>NaN</td>\n",
       "      <td>NaN</td>\n",
       "    </tr>\n",
       "    <tr>\n",
       "      <th>75%</th>\n",
       "      <td>NaN</td>\n",
       "      <td>NaN</td>\n",
       "      <td>NaN</td>\n",
       "      <td>NaN</td>\n",
       "      <td>NaN</td>\n",
       "      <td>NaN</td>\n",
       "      <td>NaN</td>\n",
       "      <td>2021.000000</td>\n",
       "      <td>NaN</td>\n",
       "      <td>NaN</td>\n",
       "      <td>NaN</td>\n",
       "      <td>NaN</td>\n",
       "    </tr>\n",
       "    <tr>\n",
       "      <th>max</th>\n",
       "      <td>NaN</td>\n",
       "      <td>NaN</td>\n",
       "      <td>NaN</td>\n",
       "      <td>NaN</td>\n",
       "      <td>NaN</td>\n",
       "      <td>NaN</td>\n",
       "      <td>NaN</td>\n",
       "      <td>2021.000000</td>\n",
       "      <td>NaN</td>\n",
       "      <td>NaN</td>\n",
       "      <td>NaN</td>\n",
       "      <td>NaN</td>\n",
       "    </tr>\n",
       "  </tbody>\n",
       "</table>\n",
       "</div>"
      ],
      "text/plain": [
       "       show_id   type                 title           director  \\\n",
       "count      200    200                   200                137   \n",
       "unique     200      2                   200                123   \n",
       "top         s1  Movie  Dick Johnson Is Dead  Toshiya Shinohara   \n",
       "freq         1    127                     1                  4   \n",
       "mean       NaN    NaN                   NaN                NaN   \n",
       "std        NaN    NaN                   NaN                NaN   \n",
       "min        NaN    NaN                   NaN                NaN   \n",
       "25%        NaN    NaN                   NaN                NaN   \n",
       "50%        NaN    NaN                   NaN                NaN   \n",
       "75%        NaN    NaN                   NaN                NaN   \n",
       "max        NaN    NaN                   NaN                NaN   \n",
       "\n",
       "                                              cast        country date_added  \\\n",
       "count                                          180            136        200   \n",
       "unique                                         179             44         26   \n",
       "top     Vijay Sethupathi, Parthiban, Raashi Khanna  United States   1-Sep-21   \n",
       "freq                                             2             50         56   \n",
       "mean                                           NaN            NaN        NaN   \n",
       "std                                            NaN            NaN        NaN   \n",
       "min                                            NaN            NaN        NaN   \n",
       "25%                                            NaN            NaN        NaN   \n",
       "50%                                            NaN            NaN        NaN   \n",
       "75%                                            NaN            NaN        NaN   \n",
       "max                                            NaN            NaN        NaN   \n",
       "\n",
       "        release_year rating  duration  \\\n",
       "count     200.000000    200       200   \n",
       "unique           NaN     10        71   \n",
       "top              NaN  TV-MA  1 Season   \n",
       "freq             NaN     50        43   \n",
       "mean     2012.230000    NaN       NaN   \n",
       "std        11.609089    NaN       NaN   \n",
       "min      1961.000000    NaN       NaN   \n",
       "25%      2005.750000    NaN       NaN   \n",
       "50%      2018.000000    NaN       NaN   \n",
       "75%      2021.000000    NaN       NaN   \n",
       "max      2021.000000    NaN       NaN   \n",
       "\n",
       "                                                listed_in  \\\n",
       "count                                                 200   \n",
       "unique                                                 97   \n",
       "top     Action & Adventure, Anime Features, Internatio...   \n",
       "freq                                                   12   \n",
       "mean                                                  NaN   \n",
       "std                                                   NaN   \n",
       "min                                                   NaN   \n",
       "25%                                                   NaN   \n",
       "50%                                                   NaN   \n",
       "75%                                                   NaN   \n",
       "max                                                   NaN   \n",
       "\n",
       "                                              description  \n",
       "count                                                 200  \n",
       "unique                                                199  \n",
       "top     A budding politician has devious plans to rise...  \n",
       "freq                                                    2  \n",
       "mean                                                  NaN  \n",
       "std                                                   NaN  \n",
       "min                                                   NaN  \n",
       "25%                                                   NaN  \n",
       "50%                                                   NaN  \n",
       "75%                                                   NaN  \n",
       "max                                                   NaN  "
      ]
     },
     "execution_count": 13,
     "metadata": {},
     "output_type": "execute_result"
    }
   ],
   "source": [
    "df.describe(include = \"all\")"
   ]
  },
  {
   "cell_type": "markdown",
   "id": "2a537de5-351b-49fd-bdee-0a54e9957942",
   "metadata": {},
   "source": [
    "### Data Cleaning"
   ]
  },
  {
   "cell_type": "code",
   "execution_count": 16,
   "id": "a4a34d54-8a16-4166-a5d5-3be1c7069be0",
   "metadata": {},
   "outputs": [],
   "source": [
    "df_cleaned = df.drop(columns = [\"director\" , \"country\"])"
   ]
  },
  {
   "cell_type": "code",
   "execution_count": 17,
   "id": "ac9e77e2-e898-404f-a14a-f678ab2052b7",
   "metadata": {},
   "outputs": [],
   "source": [
    "df_cleaned = df_cleaned.dropna(subset = [\"cast\"])"
   ]
  },
  {
   "cell_type": "code",
   "execution_count": 18,
   "id": "cf8c94a5-455f-4ac6-97e4-63ca2fc9dc30",
   "metadata": {},
   "outputs": [
    {
     "data": {
      "text/plain": [
       "show_id         0\n",
       "type            0\n",
       "title           0\n",
       "cast            0\n",
       "date_added      0\n",
       "release_year    0\n",
       "rating          0\n",
       "duration        0\n",
       "listed_in       0\n",
       "description     0\n",
       "dtype: int64"
      ]
     },
     "execution_count": 18,
     "metadata": {},
     "output_type": "execute_result"
    }
   ],
   "source": [
    "df_cleaned.isnull().sum()"
   ]
  },
  {
   "cell_type": "markdown",
   "id": "c21bf7b6-6189-4e63-9cee-8b414ec0d90d",
   "metadata": {},
   "source": [
    "#### Visual Exploration"
   ]
  },
  {
   "cell_type": "code",
   "execution_count": 20,
   "id": "ec90b3c0-3610-45c1-9a1b-20ec42df458b",
   "metadata": {},
   "outputs": [
    {
     "data": {
      "image/png": "[encoded data removed]",
      "text/plain": [
       "<Figure size 640x480 with 1 Axes>"
      ]
     },
     "metadata": {},
     "output_type": "display_data"
    }
   ],
   "source": [
    "import seaborn as sns\n",
    "import matplotlib.pyplot as plt\n",
    "\n",
    "sns.countplot(data = df_cleaned , x = \"type\")\n",
    "plt.title(\"Movies vs TV shows\")\n",
    "plt.xlabel(\"Type\")\n",
    "plt.ylabel(\"Count\")\n",
    "plt.show()"
   ]
  },
  {
   "cell_type": "code",
   "execution_count": 23,
   "id": "ce270509-0711-4218-b5d1-009ad7579657",
   "metadata": {},
   "outputs": [
    {
     "data": {
      "image/png": "[encoded data removed]",
      "text/plain": [
       "<Figure size 640x480 with 1 Axes>"
      ]
     },
     "metadata": {},
     "output_type": "display_data"
    }
   ],
   "source": [
    "df_cleaned[\"date_added\"] = pd.to_datetime(df_cleaned[\"date_added\"] , errors = \"coerce\")\n",
    "df_cleaned[\"year_added\"] = df_cleaned[\"date_added\"].dt.year\n",
    "\n",
    "sns.countplot(data = df_cleaned , x = \"year_added\" , order = sorted(df_cleaned[\"year_added\"].dropna().unique()))\n",
    "plt.title(\"Content added by Year\")\n",
    "plt.xticks(rotation = 30)\n",
    "plt.show()"
   ]
  },
  {
   "cell_type": "code",
   "execution_count": 27,
   "id": "114a9a47-5898-43cd-8c64-fc5c0c376307",
   "metadata": {},
   "outputs": [
    {
     "data": {
      "image/png": "[encoded data removed]",
      "text/plain": [
       "<Figure size 640x480 with 1 Axes>"
      ]
     },
     "metadata": {},
     "output_type": "display_data"
    }
   ],
   "source": [
    "sns.countplot(data = df_cleaned , y = \"rating\" , order = df_cleaned[\"rating\"].value_counts().index)\n",
    "plt.title(\"Content ratings\")\n",
    "plt.xlabel(\"Count\")\n",
    "plt.ylabel(\"Rating\")\n",
    "plt.show()"
   ]
  },
  {
   "cell_type": "code",
   "execution_count": 35,
   "id": "8e88ede5-ec7a-4543-b895-fa6bba5c6aa6",
   "metadata": {},
   "outputs": [
    {
     "data": {
      "image/png": "[encoded data removed]",
      "text/plain": [
       "<Figure size 1000x500 with 1 Axes>"
      ]
     },
     "metadata": {},
     "output_type": "display_data"
    }
   ],
   "source": [
    "from collections import Counter\n",
    "all_genres = \",\".join(df_cleaned[\"listed_in\"].dropna()).split(\",\")\n",
    "\n",
    "genre_counts = Counter([genre.strip() for genre in all_genres])\n",
    "\n",
    "top_genres = genre_counts.most_common(10)\n",
    "genres , counts = zip(*top_genres)\n",
    "\n",
    "plt.figure(figsize = (10 , 5))\n",
    "sns.barplot(x = list(counts) , y = list(genres))\n",
    "plt.title(\"Top 10 Genres on Netflix\")\n",
    "plt.xlabel(\"Numberr of titles\")\n",
    "plt.ylabel(\"Genre\")\n",
    "plt.show()"
   ]
  },
  {
   "cell_type": "markdown",
   "id": "7e9ad9ce-2731-4547-8d1f-078335929108",
   "metadata": {},
   "source": [
    "### Insightful Questions and Key_Insights"
   ]
  },
  {
   "cell_type": "code",
   "execution_count": 44,
   "id": "0a3aacc5-8b0e-47a8-9cea-f638d6e098f1",
   "metadata": {},
   "outputs": [
    {
     "data": {
      "text/plain": [
       "title\n",
       "Blood & Water                       1\n",
       "Ganglands                           1\n",
       "Kota Factory                        1\n",
       "Midnight Mass                       1\n",
       "My Little Pony: A New Generation    1\n",
       "Sankofa                             1\n",
       "The Great British Baking Show       1\n",
       "The Starling                        1\n",
       "Bangkok Breaking                    1\n",
       "Je Suis Karl                        1\n",
       "Name: count, dtype: int64"
      ]
     },
     "execution_count": 44,
     "metadata": {},
     "output_type": "execute_result"
    }
   ],
   "source": [
    "df_cleaned[\"title\"].value_counts().head(10)"
   ]
  },
  {
   "cell_type": "code",
   "execution_count": 38,
   "id": "300119cd-22c3-4632-a13d-b6b94e1122a2",
   "metadata": {},
   "outputs": [
    {
     "data": {
      "text/plain": [
       "country\n",
       "United States                    50\n",
       "India                            15\n",
       "Japan                            14\n",
       "United Kingdom                    5\n",
       "Nigeria                           4\n",
       "United Kingdom, United States     4\n",
       "Australia                         3\n",
       "France                            2\n",
       "United States, Canada             2\n",
       "South Korea                       2\n",
       "Name: count, dtype: int64"
      ]
     },
     "execution_count": 38,
     "metadata": {},
     "output_type": "execute_result"
    }
   ],
   "source": [
    "df[\"country\"].value_counts().head(10)"
   ]
  },
  {
   "cell_type": "code",
   "execution_count": 39,
   "id": "d5395f93-f6ab-4ac2-89ac-ec2ac07aedb1",
   "metadata": {},
   "outputs": [
    {
     "data": {
      "text/plain": [
       "duration\n",
       "1 Season     32\n",
       "2 Seasons    12\n",
       "95 min        7\n",
       "106 min       5\n",
       "97 min        5\n",
       "91 min        4\n",
       "3 Seasons     4\n",
       "5 Seasons     4\n",
       "94 min        4\n",
       "114 min       3\n",
       "Name: count, dtype: int64"
      ]
     },
     "execution_count": 39,
     "metadata": {},
     "output_type": "execute_result"
    }
   ],
   "source": [
    "df_cleaned[\"duration\"].value_counts().head(10)"
   ]
  },
  {
   "cell_type": "code",
   "execution_count": 42,
   "id": "a884d2b9-2008-4c89-a993-a5677a62cdc3",
   "metadata": {},
   "outputs": [
    {
     "data": {
      "text/plain": [
       "rating\n",
       "TV-MA    27\n",
       "TV-Y7    10\n",
       "TV-14     8\n",
       "TV-Y      7\n",
       "TV-PG     5\n",
       "TV-G      3\n",
       "Name: count, dtype: int64"
      ]
     },
     "execution_count": 42,
     "metadata": {},
     "output_type": "execute_result"
    }
   ],
   "source": [
    "df_cleaned[df_cleaned[\"type\"] == \"TV Show\"][\"rating\"].value_counts()"
   ]
  },
  {
   "cell_type": "code",
   "execution_count": 43,
   "id": "5044be98-9f35-4eb1-b68a-8cee3ac253a1",
   "metadata": {},
   "outputs": [
    {
     "data": {
      "image/png": "[encoded data removed]",
      "text/plain": [
       "<Figure size 1200x500 with 1 Axes>"
      ]
     },
     "metadata": {},
     "output_type": "display_data"
    }
   ],
   "source": [
    "df_cleaned[\"release_year\"].value_counts().sort_index().plot(kind = \"bar\" , figsize = (12 , 5))\n",
    "plt.title(\"Content Released by year\")\n",
    "plt.xlabel(\"Year\")\n",
    "plt.ylabel(\"Number Of Titles\")\n",
    "plt.show()"
   ]
  },
  {
   "cell_type": "code",
   "execution_count": 46,
   "id": "8150b10b-50da-4dd0-a803-664a1ffe72e4",
   "metadata": {},
   "outputs": [],
   "source": [
    "df_cleaned.to_csv(\"Netflix_Cleaned.csv\" , index = False)"
   ]
  },
  {
   "cell_type": "code",
   "execution_count": null,
   "id": "82c41750-4a08-4178-a7b0-48b8dde8e7f4",
   "metadata": {},
   "outputs": [],
   "source": []
  }
 ],
 "metadata": {
  "kernelspec": {
   "display_name": "Python 3 (ipykernel)",
   "language": "python",
   "name": "python3"
  },
  "language_info": {
   "codemirror_mode": {
    "name": "ipython",
    "version": 3
   },
   "file_extension": ".py",
   "mimetype": "text/x-python",
   "name": "python",
   "nbconvert_exporter": "python",
   "pygments_lexer": "ipython3",
   "version": "3.13.5"
  }
 },
 "nbformat": 4,
 "nbformat_minor": 5
}
